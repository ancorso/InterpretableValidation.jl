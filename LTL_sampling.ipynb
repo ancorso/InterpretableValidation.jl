{
 "cells": [
  {
   "cell_type": "code",
   "execution_count": null,
   "metadata": {
    "scrolled": true
   },
   "outputs": [],
   "source": [
    "using ExprRules\n",
    "using Plots\n",
    "pgfplots()\n",
    "include(\"inverse_logic.jl\")"
   ]
  },
  {
   "cell_type": "markdown",
   "metadata": {},
   "source": [
    "Define the LTL Grammar with \"globally\" and \"eventually\" operators"
   ]
  },
  {
   "cell_type": "code",
   "execution_count": null,
   "metadata": {},
   "outputs": [],
   "source": [
    "grammar = @grammar begin\n",
    "    R = (R && R) | (R || R) # \"and\" and \"or\" expressions for scalar values\n",
    "    R = all(τ) | any(τ)# τ is true everywhere or τ is eventually true\n",
    "    τ = (τ .& τ) | (τ .| τ) # \"and\" and \"or\" for boolean time series\n",
    "    τ = (sym < c) | (sym > c) | (sym == c)# Less than operation\n",
    "    c = 0.01 | 0.25 | 0.5 | 0.75 | 0.99 # Constants for comparison\n",
    "    sym = x | y\n",
    "end"
   ]
  },
  {
   "cell_type": "markdown",
   "metadata": {},
   "source": [
    "Define two different action spaces. One for 1D and and one for 2D."
   ]
  },
  {
   "cell_type": "code",
   "execution_count": null,
   "metadata": {},
   "outputs": [],
   "source": [
    "A1D = ActionSpace(:x => [-1,1])\n",
    "A2D = ActionSpace(:x => [0,1], :y => [0,1]);"
   ]
  },
  {
   "cell_type": "markdown",
   "metadata": {},
   "source": [
    "Set the number of timesteps in the trajectory and then sample some unconstrained trajectories from the action spaces"
   ]
  },
  {
   "cell_type": "code",
   "execution_count": null,
   "metadata": {},
   "outputs": [],
   "source": [
    "N = 100\n",
    "a1_series = sample_series([A1D for i in 1:N])\n",
    "a2_series = sample_series([A2D for i in 1:N]);"
   ]
  },
  {
   "cell_type": "markdown",
   "metadata": {},
   "source": [
    "Example with 1D action space and simple constraints on values"
   ]
  },
  {
   "cell_type": "code",
   "execution_count": null,
   "metadata": {},
   "outputs": [],
   "source": [
    "rn1 = RuleNode(1, [RuleNode(3,[RuleNode(8, [RuleNode(15), RuleNode(12)])]), RuleNode(4, [RuleNode(8, [RuleNode(15), RuleNode(14)])])])\n",
    "ex1 = get_executable(rn1, grammar)\n",
    "constrained_series = sample_series(ex1, A1D, N)\n",
    "plot(a1_series, ylims = (-1,1), label=\"Unconstrained Series\", size = (600,200), legend=:bottomright)\n",
    "plot!(constrained_series, label = \"Constrained Series\")\n",
    "title!(string(\"Time Series Constrained by: \", replace(string(ex1), \"&\" =>\"\\\\&\")))\n"
   ]
  },
  {
   "cell_type": "markdown",
   "metadata": {},
   "source": [
    "Example with 2D action space"
   ]
  },
  {
   "cell_type": "code",
   "execution_count": null,
   "metadata": {},
   "outputs": [],
   "source": [
    "r = RuleNode\n",
    "rn2 = r(3, [r(6, [r(5,[r(8,[r(15), r(13)]), r(8,[r(16), r(13)])]),r(5,[r(7,[r(15), r(11)]), r(7,[r(16), r(11)])])])])\n",
    "ex2 = get_executable(rn2, grammar)\n",
    "constrained_series = sample_series(ex2, A2D, N)\n",
    "p1 = plot(a2_series, ylims = (0,1), title=\"Unconstrained Series\", label=[\"x\", \"y\"])\n",
    "p2 = plot(constrained_series, ylims = (0,1), label=[\"x\", \"y\"], title = string(\"Series Constrained by: \", replace(string(ex2), \"&\" =>\"\\\\&\")))\n",
    "plot(p1, p2, layout = (2,1))"
   ]
  },
  {
   "cell_type": "markdown",
   "metadata": {},
   "source": [
    "A look inside:"
   ]
  },
  {
   "cell_type": "code",
   "execution_count": null,
   "metadata": {},
   "outputs": [],
   "source": [
    "N = 4\n",
    "leaves = eval_conditional_tree(ex1, true, N)"
   ]
  },
  {
   "cell_type": "code",
   "execution_count": null,
   "metadata": {},
   "outputs": [],
   "source": [
    "constraints = gen_constraints(leaves, N)"
   ]
  },
  {
   "cell_type": "code",
   "execution_count": null,
   "metadata": {},
   "outputs": [],
   "source": [
    "action_spaces, valid = gen_action_spaces(A1D, constraints)\n",
    "println(action_spaces[1].bounds)\n",
    "println(\"Is Valid? \", valid)"
   ]
  },
  {
   "cell_type": "markdown",
   "metadata": {},
   "source": [
    "Next steps:\n",
    "* Combine this with GP to solve a problem where the ground truth expression is known\n",
    "* Apply it to the AV scenario\n",
    "* Change the sampling approach to incorporate gaussian processes instead of just uniform, independent samples\n",
    "* Generative modelfor the sign language dataset?\n",
    "\n",
    "Hangups:\n",
    "* Best way to sample continuous values and then incorporate them into GP?\n",
    "* Expression generation can fail with the grammar because the algorithm doesn't keep track of how deep it is until right before it has reached the last depth. Talk to Ritchie?"
   ]
  }
 ],
 "metadata": {
  "@webio": {
   "lastCommId": null,
   "lastKernelId": null
  },
  "kernelspec": {
   "display_name": "Julia 1.1.0",
   "language": "julia",
   "name": "julia-1.1"
  },
  "language_info": {
   "file_extension": ".jl",
   "mimetype": "application/julia",
   "name": "julia",
   "version": "1.1.0"
  }
 },
 "nbformat": 4,
 "nbformat_minor": 2
}
